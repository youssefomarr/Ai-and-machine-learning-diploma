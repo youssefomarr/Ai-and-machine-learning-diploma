{
 "cells": [
  {
   "cell_type": "markdown",
   "metadata": {},
   "source": [
    "# Please be back by 7:50  "
   ]
  },
  {
   "cell_type": "markdown",
   "metadata": {},
   "source": [
    "# Task 1.\n",
    "- Calculate Factorial using recursion"
   ]
  },
  {
   "cell_type": "code",
   "execution_count": 2,
   "metadata": {},
   "outputs": [],
   "source": [
    "def fac(n):\n",
    "    if n==0:\n",
    "        return 0\n",
    "    elif n==1:\n",
    "        return 1\n",
    "    else:\n",
    "        return (fac(n-1)*(n))"
   ]
  },
  {
   "cell_type": "code",
   "execution_count": 3,
   "metadata": {},
   "outputs": [
    {
     "data": {
      "text/plain": [
       "120"
      ]
     },
     "execution_count": 3,
     "metadata": {},
     "output_type": "execute_result"
    }
   ],
   "source": [
    "fac(5)"
   ]
  },
  {
   "cell_type": "markdown",
   "metadata": {},
   "source": [
    "# Task 2.\n",
    "- Write a function that takes a number and return True if this number is prime and False if not."
   ]
  },
  {
   "cell_type": "code",
   "execution_count": 18,
   "metadata": {},
   "outputs": [],
   "source": [
    "def isPrime(n):\n",
    "    if n<2 :\n",
    "        return False\n",
    "    for i in range(2,n):\n",
    "        if n%i==0:\n",
    "            return False\n",
    "      \n",
    "    return True\n",
    "    \n"
   ]
  },
  {
   "cell_type": "code",
   "execution_count": 21,
   "metadata": {},
   "outputs": [
    {
     "name": "stdout",
     "output_type": "stream",
     "text": [
      "False\n"
     ]
    }
   ],
   "source": [
    "print(isPrime(-2))"
   ]
  },
  {
   "cell_type": "markdown",
   "metadata": {},
   "source": [
    "# Task 3.\n",
    "- Write a function that takes two numbers and return a list of common dividors"
   ]
  },
  {
   "cell_type": "code",
   "execution_count": null,
   "metadata": {},
   "outputs": [],
   "source": [
    "def func(n1,n2):\n",
    "    lst=[]\n",
    "    maxn=min(n1,n2)\n",
    "    for i in range (1,maxn+1):\n",
    "        if n1 %i==0 and n2 %i==0:\n",
    "            lst.append(i)\n",
    "    return lst            \n",
    "        \n",
    "   "
   ]
  },
  {
   "cell_type": "code",
   "execution_count": 47,
   "metadata": {},
   "outputs": [
    {
     "data": {
      "text/plain": [
       "[1, 2]"
      ]
     },
     "execution_count": 47,
     "metadata": {},
     "output_type": "execute_result"
    }
   ],
   "source": [
    "func(2,10)\n"
   ]
  },
  {
   "cell_type": "markdown",
   "metadata": {},
   "source": [
    "# Task 4. \n",
    "- Given two strings, write a program that efficiently finds the longest common subsequence\n",
    "\n",
    "- **Ex:** str1 = \"Welcome to Machine Learning Diploma\" str2 = \"I am studying a Machine Learning Course\" --> Machine Learning"
   ]
  },
  {
   "cell_type": "code",
   "execution_count": null,
   "metadata": {},
   "outputs": [],
   "source": [
    "str1=\"Welcome to Machine Learning Diploma\" \n",
    "str2 = \"I am studying a Machine Learning Course\""
   ]
  },
  {
   "cell_type": "code",
   "execution_count": 6,
   "metadata": {},
   "outputs": [],
   "source": [
    "def lcs(s1,s2):\n",
    "    seq=[]\n",
    "    word1=s1.split()\n",
    "    word2=s2.split()\n",
    "    for i in word1:\n",
    "        if i in word2:\n",
    "            seq.append(i)\n",
    "    last=\" \".join(seq)        \n",
    "    return last        \n",
    "        \n",
    "            "
   ]
  },
  {
   "cell_type": "code",
   "execution_count": 7,
   "metadata": {},
   "outputs": [
    {
     "data": {
      "text/plain": [
       "'Machine Learning'"
      ]
     },
     "execution_count": 7,
     "metadata": {},
     "output_type": "execute_result"
    }
   ],
   "source": [
    "lcs(str1,str2)"
   ]
  },
  {
   "cell_type": "markdown",
   "metadata": {},
   "source": [
    "# Task 5.\n",
    "- Write a function that will take a given string and reverse the order of words.\n",
    "\n",
    "- **Ex:** “Hello world” → ”world Hello”\n"
   ]
  },
  {
   "cell_type": "code",
   "execution_count": null,
   "metadata": {},
   "outputs": [],
   "source": [
    "str=\"hello World\"\n"
   ]
  },
  {
   "cell_type": "code",
   "execution_count": 13,
   "metadata": {},
   "outputs": [],
   "source": [
    "def rev(s):\n",
    "    word=s.split()\n",
    "    word=word[::-1]\n",
    "    reversed=\" \".join(word)\n",
    "    return reversed"
   ]
  },
  {
   "cell_type": "code",
   "execution_count": 14,
   "metadata": {},
   "outputs": [
    {
     "data": {
      "text/plain": [
       "'World hello'"
      ]
     },
     "execution_count": 14,
     "metadata": {},
     "output_type": "execute_result"
    }
   ],
   "source": [
    "rev(str)"
   ]
  },
  {
   "cell_type": "markdown",
   "metadata": {},
   "source": [
    "# Task 6.\n",
    "- Create a program that generates a random password of a given length.\n",
    "- Hint: use random module → import random → random.randrange"
   ]
  },
  {
   "cell_type": "code",
   "execution_count": 15,
   "metadata": {},
   "outputs": [],
   "source": [
    "import random\n",
    "def passGenerator(length):\n",
    "    characters=\"abcdefghijklmnopqrstuvwxyzABCDEFGHIJKLMNOPQRSTUVWXYZ1234567890!@#$%^&*\"\n",
    "    numOfChars=len(characters)\n",
    "    password=\"\"\n",
    "    for _ in range(length):\n",
    "        ndx=random.randrange(0,numOfChars)\n",
    "        password+=characters[ndx]\n",
    "    return password    "
   ]
  },
  {
   "cell_type": "code",
   "execution_count": 17,
   "metadata": {},
   "outputs": [
    {
     "data": {
      "text/plain": [
       "'eEo91XYySt'"
      ]
     },
     "execution_count": 17,
     "metadata": {},
     "output_type": "execute_result"
    }
   ],
   "source": [
    "length=int(input(\"Enter length\"))\n",
    "passGenerator(length)\n"
   ]
  },
  {
   "cell_type": "markdown",
   "metadata": {},
   "source": [
    "# Task 7.\n",
    "- Write a Python program to find all the unique words and count the frequency of occurrence from a given list of strings\n",
    "\n",
    "- **Ex:** [\"Welcome\", \"Ali\", \"Hi\", \"Ali\", \"No\", \"Hi\", \"No\", \"Ali\", \"No\", \"Ali\"]  → {'Ali': 4, 'Welcome': 1, 'No': 3, 'Hi': 2}"
   ]
  },
  {
   "cell_type": "code",
   "execution_count": 18,
   "metadata": {},
   "outputs": [
    {
     "name": "stdout",
     "output_type": "stream",
     "text": [
      "Welcome: 1\n",
      "Hi: 2\n",
      "Ali: 4\n",
      "No: 3\n"
     ]
    }
   ],
   "source": [
    "words = [\"Welcome\", \"Ali\", \"Hi\", \"Ali\", \"No\", \"Hi\", \"No\", \"Ali\", \"No\", \"Ali\"]\n",
    "unique_words=set(words)\n",
    "for word in unique_words:\n",
    "    print(f\"{word}: {words.count(word)}\")\n"
   ]
  },
  {
   "cell_type": "markdown",
   "metadata": {},
   "source": [
    "# Task 8.\n",
    "- Write a Python program to find all the unique words and count the frequency of occurrence from a text file and save the counts in a new file\n",
    "- This is the same as Task 7 but this time read words from a file\n",
    "- Hint: use replace function and split function"
   ]
  },
  {
   "cell_type": "markdown",
   "metadata": {},
   "source": [
    "**First Step: read the file**"
   ]
  },
  {
   "cell_type": "code",
   "execution_count": null,
   "metadata": {},
   "outputs": [
    {
     "data": {
      "text/plain": [
       "5"
      ]
     },
     "execution_count": 20,
     "metadata": {},
     "output_type": "execute_result"
    }
   ],
   "source": [
    "input_file = open(\"input_file.txt\", \"r\")\n",
    "text = input_file.read()\n",
    "input_file.close()\n"
   ]
  },
  {
   "cell_type": "markdown",
   "metadata": {},
   "source": [
    "**Second step: remove '\\n' then convert the file text into a list of words**"
   ]
  },
  {
   "cell_type": "code",
   "execution_count": null,
   "metadata": {},
   "outputs": [],
   "source": [
    "text = text.replace('\\n', ' ')\n",
    "words = text.split(' ')"
   ]
  },
  {
   "cell_type": "markdown",
   "metadata": {},
   "source": [
    "**Third Step: get unique words, create a dictionary, then count unique words**"
   ]
  },
  {
   "cell_type": "code",
   "execution_count": null,
   "metadata": {
    "scrolled": true
   },
   "outputs": [],
   "source": [
    "unique_words= set(words)\n",
    "word_counts=dict()\n",
    "for word in unique_words:\n",
    "    word_counts[word]=words.count(word)\n",
    "  "
   ]
  },
  {
   "cell_type": "markdown",
   "metadata": {},
   "source": [
    "**Save the word-count pair into a text file**"
   ]
  },
  {
   "cell_type": "code",
   "execution_count": null,
   "metadata": {},
   "outputs": [],
   "source": [
    "output_file = open(\"output_file.txt\", \"w\")\n",
    "for word in word_counts:\n",
    "    output_file.write(\"{}: {}\\n\".format(word, word_counts[word]))\n",
    "output_file.close()"
   ]
  },
  {
   "cell_type": "markdown",
   "metadata": {},
   "source": [
    "# Task 9.\n",
    "- Implement a basic chatbot that can respond to user input with predefined responses"
   ]
  },
  {
   "cell_type": "code",
   "execution_count": 80,
   "metadata": {},
   "outputs": [],
   "source": [
    "import random\n",
    "\n",
    "responses ={  \"hello\": [\"Hello!\", \"Hi there!\", \"Greetings!\" , \"Welcome back Joe\"],\n",
    "    \"how are you\": [\"I'm doing well, thank you!\", \"I'm fine, how about you?\"],\n",
    "    \"goodbye\": [\"Goodbye!\", \"See you later!\", \"Farewell!\"],\n",
    "    \"default\": [\"I'm sorry, I didn't understand.\", \"Could you please rephrase that?\" ]\n",
    "}\n",
    "\n",
    "def get_response(user_input):\n",
    "    for key in responses:\n",
    "        if key in user_input :\n",
    "            return random.choice(responses[key])\n",
    "       \n",
    "    return random.choice(responses[\"default\"])\n",
    "\n",
    "def chatbot():\n",
    "    print(\"Chatbot: Hi! How can I assist you today?\")\n",
    "    while True:\n",
    "        user_input=input(\"user: \").lower()\n",
    "        response=get_response(user_input)\n",
    "        print(\"chatbot: \", response)\n",
    "        if user_input== \"goodbye\":\n",
    "            break\n",
    "        \n",
    "        \n",
    "\n",
    "\n",
    "\n"
   ]
  },
  {
   "cell_type": "code",
   "execution_count": 81,
   "metadata": {},
   "outputs": [
    {
     "name": "stdout",
     "output_type": "stream",
     "text": [
      "Chatbot: Hi! How can I assist you today?\n",
      "chatbot:  Could you please rephrase that?\n",
      "chatbot:  Could you please rephrase that?\n",
      "chatbot:  I'm sorry, I didn't understand.\n",
      "chatbot:  I'm sorry, I didn't understand.\n",
      "chatbot:  Goodbye!\n"
     ]
    }
   ],
   "source": [
    "chatbot()"
   ]
  },
  {
   "cell_type": "markdown",
   "metadata": {},
   "source": [
    "# Task 10: Person class and child Student class \n",
    "Create a Python class Person with attributes: name and age.\n",
    "- Create a display() method that displays the name and age of an object created via the Person class.\n",
    "- Create a child class Student which inherits from the Person class and which also has an extra attribute called school.\n",
    "- Create a method displayStudent() that displays the name, age and section of an object created via the Student class.\n",
    "- Create a student object via an instantiation on the Student class and then test the displayStudent method"
   ]
  },
  {
   "cell_type": "code",
   "execution_count": 38,
   "metadata": {},
   "outputs": [],
   "source": [
    "class Person():\n",
    "    def __init__(self,name,age):\n",
    "        self.name=name\n",
    "        self.age=age\n",
    "    def display():\n",
    "            return (f\"name is {self.name}. age is {self.age}\")\n",
    "        "
   ]
  },
  {
   "cell_type": "code",
   "execution_count": 39,
   "metadata": {},
   "outputs": [],
   "source": [
    "class Child(Person):\n",
    "    def __init__(self, name, age,school):\n",
    "        super().__init__(name, age)\n",
    "        self.school=school\n",
    "    def displayStudent(self):\n",
    "            return (f\"name is {self.name}. age is {self.age}. school is {self.school}\")   "
   ]
  },
  {
   "cell_type": "code",
   "execution_count": 40,
   "metadata": {},
   "outputs": [
    {
     "data": {
      "text/plain": [
       "'name is Joe. age is 21. school is QLS'"
      ]
     },
     "execution_count": 40,
     "metadata": {},
     "output_type": "execute_result"
    }
   ],
   "source": [
    "s1=Child(\"Joe\",21,\"QLS\")\n",
    "s1.displayStudent()\n"
   ]
  },
  {
   "cell_type": "markdown",
   "metadata": {},
   "source": [
    "# Task 11: Rectangle class: \n",
    "- Write a Rectangle class in Python language, allowing you to build a rectangle with length and width attributes.\n",
    "- Create a Perimeter() method to calculate the perimeter of the rectangle and a Area() method to calculate the area of the rectangle.\n",
    "- Create a method display() that display the length, width, perimeter and area of an object created using an instantiation on rectangle class.\n",
    "- Create a Parallelepipede child class inheriting from the Rectangle class and with a height attribute and another Volume() method to calculate the volume of the Parallelepiped."
   ]
  },
  {
   "cell_type": "code",
   "execution_count": 66,
   "metadata": {},
   "outputs": [],
   "source": [
    "class Rectangle():\n",
    "    def __init__(self,length,width):\n",
    "        self.length=length\n",
    "        self.width=width\n",
    "    def perimeter(self):\n",
    "            return((self.length*2)+(self.width*2))\n",
    "    def area(self):\n",
    "            return(self.length*self.width)\n",
    "    def display(self):\n",
    "            return(f\"length = {self.length}. width = {self.width}. perimeter = {self.perimeter()}. area = {self.area()}\")\n",
    "    "
   ]
  },
  {
   "cell_type": "code",
   "execution_count": 68,
   "metadata": {
    "scrolled": true
   },
   "outputs": [],
   "source": [
    "class Parallelepiped(Rectangle):\n",
    "    def __init__(self, length, width,height):\n",
    "        super().__init__(length, width)\n",
    "        self.height=height\n",
    "    def volume(self):\n",
    "        return (self.length*self.width*self.height) \n",
    "    def perimeter(self):\n",
    "        return \"No Perimeter\"\n",
    "    \n",
    "    def area(self):\n",
    "        return ((self.length *self. width *2 )+ (self.length * self.height * 2) +( self.width * self.height * 2 ))\n",
    "    def display(self):\n",
    "            return(f\"length = {self.length}. width = {self.width}. height = {self.height}. area = {self.area()}\")       "
   ]
  },
  {
   "cell_type": "code",
   "execution_count": 70,
   "metadata": {},
   "outputs": [
    {
     "name": "stdout",
     "output_type": "stream",
     "text": [
      "Length = 100, Width = 100, Height = 10, Area = 24000, Volume = 100000\n",
      "Length = 10, Width = 10, Perimeter = 40, Area = 100\n"
     ]
    }
   ],
   "source": [
    "p=Parallelepiped(100,100,10)\n",
    "r=Rectangle(10,10)\n",
    "print(p.display())\n",
    "print(r.display())\n"
   ]
  }
 ],
 "metadata": {
  "kernelspec": {
   "display_name": "Python 3",
   "language": "python",
   "name": "python3"
  },
  "language_info": {
   "codemirror_mode": {
    "name": "ipython",
    "version": 3
   },
   "file_extension": ".py",
   "mimetype": "text/x-python",
   "name": "python",
   "nbconvert_exporter": "python",
   "pygments_lexer": "ipython3",
   "version": "3.11.4"
  }
 },
 "nbformat": 4,
 "nbformat_minor": 2
}
