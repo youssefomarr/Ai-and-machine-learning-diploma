{
 "cells": [
  {
   "cell_type": "markdown",
   "metadata": {},
   "source": [
    "# OOP 1st Assignment\n",
    "## Create a Python program that includes the following:\n",
    "\n",
    "1. A base class `Vehicle` with attributes `make`, `model`, and `year`. Include a method `vehicle_info()` that prints these details.\n",
    "2. A derived class `Car` that inherits from `Vehicle` and includes an additional attribute `fuel_type` and a method `car_info()` to print the fuel type.\n",
    "3. Another derived class `Motorcycle` that inherits from `Vehicle` and includes an additional attribute `engine_capacity` and a method `motorcycle_info()` to print the engine capacity.\n",
    "4. Create objects for both the `Car` and `Motorcycle` classes, initialize them with appropriate values, and call all their methods to display the details.\n"
   ]
  },
  {
   "cell_type": "markdown",
   "metadata": {},
   "source": []
  },
  {
   "cell_type": "markdown",
   "metadata": {},
   "source": [
    "# 1) THE VEHICLE PARENT CLASS"
   ]
  },
  {
   "cell_type": "code",
   "execution_count": 6,
   "metadata": {},
   "outputs": [],
   "source": [
    "class vehicle:\n",
    "    def __init__(self,make,model,year):\n",
    "        self.make=make\n",
    "        self.model=model \n",
    "        self.year=year\n",
    "    def vehicle_info(self):\n",
    "        print(f\"this vehicle made in {self.make}. its model is {self.model}. its year is {self.year}\")    \n",
    "    "
   ]
  },
  {
   "cell_type": "markdown",
   "metadata": {},
   "source": [
    "# 2) THE CAR CLASS"
   ]
  },
  {
   "cell_type": "code",
   "execution_count": 9,
   "metadata": {},
   "outputs": [],
   "source": [
    "class Car(vehicle):\n",
    "    def __init__(self, make, model, year,fuel_type):\n",
    "        self.fuel_type=fuel_type\n",
    "        super().__init__(make, model, year)\n",
    "    def car_info(self):\n",
    "        print(f\"car info: made in {self.make}. model is {self.model}. year is {self.year}. fuel type is {self.fuel_type}\")\n",
    "            "
   ]
  },
  {
   "cell_type": "markdown",
   "metadata": {},
   "source": [
    "# 3) THE MOTORCYCLE CLASS"
   ]
  },
  {
   "cell_type": "code",
   "execution_count": 8,
   "metadata": {},
   "outputs": [],
   "source": [
    "class Motorcycle(vehicle):\n",
    "    def __init__(self, make, model, year,engine_capacity):\n",
    "        self.engine_capacity=engine_capacity\n",
    "        super().__init__(make, model, year)\n",
    "    def motorcycle_info(self):\n",
    "        print(f\"motorcycle info: made in {self.make}. model is {self.model}. year is {self.year}. engine capacity is {self.engine_capacity}\")    "
   ]
  },
  {
   "cell_type": "markdown",
   "metadata": {},
   "source": [
    "## Creating objects"
   ]
  },
  {
   "cell_type": "code",
   "execution_count": 12,
   "metadata": {},
   "outputs": [
    {
     "name": "stdout",
     "output_type": "stream",
     "text": [
      "car info: made in germany. model is Porsche. year is 2025. fuel type is gas\n",
      "motorcycle info: made in Korea. model is Honda. year is 2024. engine capacity is 20 liters\n"
     ]
    }
   ],
   "source": [
    "mycar=Car(\"germany\",\"Porsche\",2025,\"gas\")\n",
    "mymotorcycle=Motorcycle(\"Korea\",\"Honda\",2024,\"20 liters\")\n",
    "mycar.car_info()\n",
    "mymotorcycle.motorcycle_info()"
   ]
  }
 ],
 "metadata": {
  "kernelspec": {
   "display_name": "Python 3",
   "language": "python",
   "name": "python3"
  },
  "language_info": {
   "codemirror_mode": {
    "name": "ipython",
    "version": 3
   },
   "file_extension": ".py",
   "mimetype": "text/x-python",
   "name": "python",
   "nbconvert_exporter": "python",
   "pygments_lexer": "ipython3",
   "version": "3.11.4"
  }
 },
 "nbformat": 4,
 "nbformat_minor": 2
}
