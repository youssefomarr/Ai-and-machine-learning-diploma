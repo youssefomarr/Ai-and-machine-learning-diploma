{
 "cells": [
  {
   "cell_type": "markdown",
   "metadata": {},
   "source": [
    "### Python Assignment\n",
    "\n",
    "#### Question 1: Functions\n",
    "Provide two examples of built-in functions and describe their purpose."
   ]
  },
  {
   "cell_type": "code",
   "execution_count": null,
   "metadata": {},
   "outputs": [],
   "source": [
    "''' print : it display and print output \n",
    "'''"
   ]
  },
  {
   "cell_type": "markdown",
   "metadata": {},
   "source": [
    "#### Question 2: Comments\n",
    "Show the difference between single-line comments and multi-line comments in Python."
   ]
  },
  {
   "cell_type": "code",
   "execution_count": null,
   "metadata": {},
   "outputs": [],
   "source": [
    "# this is a single line comment \n",
    "''' this is a multi line comment'''"
   ]
  },
  {
   "cell_type": "markdown",
   "metadata": {},
   "source": [
    "#### Question 3: Variables and Errors\n",
    "Consider the following code:"
   ]
  },
  {
   "cell_type": "markdown",
   "metadata": {},
   "source": [
    "- What will happen when the code is executed? Why?\n",
    "- Correct the code so it runs without errors."
   ]
  },
  {
   "cell_type": "code",
   "execution_count": 2,
   "metadata": {},
   "outputs": [
    {
     "name": "stdout",
     "output_type": "stream",
     "text": [
      "5\n"
     ]
    },
    {
     "data": {
      "text/plain": [
       "' error because invalid name is used. '"
      ]
     },
     "execution_count": 2,
     "metadata": {},
     "output_type": "execute_result"
    }
   ],
   "source": [
    "my_var = 10\n",
    "MyVar = 5\n",
    "print(MyVar)\n",
    "''' error because invalid name is used. '''"
   ]
  },
  {
   "cell_type": "markdown",
   "metadata": {},
   "source": [
    "### Question 4: String Formatting\n",
    "Write a praogram that prints the following sentence using **f-strings**, **`.format()` method**, and **comma-separated arguments in the `print()` function**:\n",
    "\n",
    "```\n",
    "My name is Hassan, and I am 16 years old.\n",
    "```"
   ]
  },
  {
   "cell_type": "code",
   "execution_count": 9,
   "metadata": {},
   "outputs": [
    {
     "name": "stdout",
     "output_type": "stream",
     "text": [
      "my name is Hassan, and i am 16 years old.\n",
      "my name is Hassan, and i am 16 years old.\n",
      "my name is Hassan and i am 16 years old\n"
     ]
    }
   ],
   "source": [
    "name= \"Hassan\"\n",
    "age = 16\n",
    "output=f\"my name is {name}, and i am {age} years old.\"\n",
    "print(output)\n",
    "print(\"my name is {}, and i am {} years old.\".format(\"Hassan\",16))\n",
    "print(\"my name is\",name,\"and i am\",age,\"years old\")"
   ]
  },
  {
   "cell_type": "markdown",
   "metadata": {},
   "source": [
    "#### Question 5: Debugging\n",
    "There is a bug in the following code:"
   ]
  },
  {
   "cell_type": "code",
   "execution_count": null,
   "metadata": {},
   "outputs": [],
   "source": [
    "''' the bug happened cuz we inserted 3 single commas. \n",
    "'''"
   ]
  },
  {
   "cell_type": "markdown",
   "metadata": {},
   "source": [
    "- Identify the bug and explain why it occurs.\n",
    "- Fix the bug and provide the corrected code."
   ]
  },
  {
   "cell_type": "code",
   "execution_count": 10,
   "metadata": {},
   "outputs": [
    {
     "name": "stdout",
     "output_type": "stream",
     "text": [
      "My name's John and I am twenty-five years old.\n"
     ]
    }
   ],
   "source": [
    "name = \"John\"\n",
    "age = \"twenty-five\"\n",
    "print(f\"My name's {name} and I am {age} years old.\")"
   ]
  },
  {
   "cell_type": "markdown",
   "metadata": {},
   "source": [
    "Examine the following code snippet:\n",
    "- What error will occur when this code is executed? Why?\n",
    "- Fix the code so that it prints the last character of the string without causing an error."
   ]
  },
  {
   "cell_type": "code",
   "execution_count": 14,
   "metadata": {},
   "outputs": [
    {
     "name": "stdout",
     "output_type": "stream",
     "text": [
      "g\n"
     ]
    }
   ],
   "source": [
    "''' the length of the string is 18. so if we want to return the last char we should make the following:'''\n",
    "text = \"Python Programming\"\n",
    "print(text[17])\n"
   ]
  },
  {
   "cell_type": "markdown",
   "metadata": {},
   "source": [
    "#### Question 6: String Slicing\n",
    "Given the string:\n",
    "\n",
    "- Write code to extract and reverse the word \"Learning\" using slicing.\n",
    "    - Once with +ve indexing\n",
    "    - Once with -ve indexing "
   ]
  },
  {
   "cell_type": "code",
   "execution_count": 31,
   "metadata": {},
   "outputs": [
    {
     "name": "stdout",
     "output_type": "stream",
     "text": [
      "gninraeL\n",
      "gninraeL\n"
     ]
    }
   ],
   "source": [
    "text = \"Machine Learning and AI\"\n",
    "print(text[15:7:-1])\n",
    "print( text[-8:-16:-1])"
   ]
  },
  {
   "cell_type": "markdown",
   "metadata": {},
   "source": [
    "#### Question 6: Practical Problem\n",
    "Create a Python program that performs the following:\n",
    "1. Define a string `quote = \"Data is the new oil\"`.\n",
    "2. Use string slicing to extract the word \"Data\" and assign it to a variable.\n",
    "3. Use a built-in function to convert the entire `quote` string to uppercase.\n",
    "4. Print the final result."
   ]
  },
  {
   "cell_type": "code",
   "execution_count": 32,
   "metadata": {},
   "outputs": [
    {
     "name": "stdout",
     "output_type": "stream",
     "text": [
      "DATA IS THE NEW OIL\n"
     ]
    }
   ],
   "source": [
    "quote =\"Data is the new oil\"\n",
    "var1=quote[0:4]\n",
    "output=quote.upper()\n",
    "print(output)\n"
   ]
  }
 ],
 "metadata": {
  "kernelspec": {
   "display_name": "Python 3",
   "language": "python",
   "name": "python3"
  },
  "language_info": {
   "codemirror_mode": {
    "name": "ipython",
    "version": 3
   },
   "file_extension": ".py",
   "mimetype": "text/x-python",
   "name": "python",
   "nbconvert_exporter": "python",
   "pygments_lexer": "ipython3",
   "version": "3.11.4"
  }
 },
 "nbformat": 4,
 "nbformat_minor": 2
}
