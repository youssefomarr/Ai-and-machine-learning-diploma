{
 "cells": [
  {
   "cell_type": "markdown",
   "metadata": {},
   "source": [
    "# Assignment\n",
    "- You can use `lambda` if function can be put in one line"
   ]
  },
  {
   "cell_type": "markdown",
   "metadata": {},
   "source": [
    "### Write a function that calculates the factorial of a number"
   ]
  },
  {
   "cell_type": "code",
   "execution_count": 5,
   "metadata": {},
   "outputs": [
    {
     "name": "stdout",
     "output_type": "stream",
     "text": [
      "the factorial of number 5 is 120\n"
     ]
    }
   ],
   "source": [
    "def factorial(n):\n",
    "    fac=1\n",
    "    if n <0:\n",
    "        print(\"enter a positive number\")\n",
    "        return None\n",
    "    elif n==0 or n==1:\n",
    "        return 1    \n",
    "    else:\n",
    "        while n!=1:\n",
    "            fac*=n\n",
    "            n-=1\n",
    "    return fac         \n",
    "\n",
    "num =5\n",
    "result=factorial(num)     \n",
    "print(f\"the factorial of number {num} is {result}\")   \n",
    "             \n",
    "        "
   ]
  },
  {
   "cell_type": "markdown",
   "metadata": {},
   "source": [
    "### Write a function that calculates the Area of a circle given the radius"
   ]
  },
  {
   "cell_type": "code",
   "execution_count": 11,
   "metadata": {},
   "outputs": [
    {
     "name": "stdout",
     "output_type": "stream",
     "text": [
      "the area of the circle with the radius 5.0 is: 78.5\n"
     ]
    }
   ],
   "source": [
    "def area_of_circle(radius):\n",
    "    pi = 3.14\n",
    "    area = (r**2) * pi\n",
    "    return area \n",
    "r = float(input(\"enter the radius\"))\n",
    "a=area_of_circle(r)\n",
    "print(f\"the area of the circle with the radius {r} is: {a}\")"
   ]
  },
  {
   "cell_type": "markdown",
   "metadata": {},
   "source": [
    "### Write a function that checks if number is even"
   ]
  },
  {
   "cell_type": "code",
   "execution_count": 10,
   "metadata": {},
   "outputs": [
    {
     "name": "stdout",
     "output_type": "stream",
     "text": [
      "the number u have choosen is not even\n"
     ]
    }
   ],
   "source": [
    "def even(number):\n",
    "   if number %2 ==0:\n",
    "       print(f\"the number u have choosen is even\") \n",
    "   else:\n",
    "       print(f\"the number u have choosen is not even\")     \n",
    "    \n",
    "n=int(input(\"enter your number\"))\n",
    "even(n)    \n",
    "   "
   ]
  },
  {
   "cell_type": "markdown",
   "metadata": {},
   "source": [
    "### Write a function that returns the maximum of any amount of numbers"
   ]
  },
  {
   "cell_type": "code",
   "execution_count": 33,
   "metadata": {},
   "outputs": [
    {
     "ename": "RecursionError",
     "evalue": "maximum recursion depth exceeded",
     "output_type": "error",
     "traceback": [
      "\u001b[1;31m---------------------------------------------------------------------------\u001b[0m",
      "\u001b[1;31mRecursionError\u001b[0m                            Traceback (most recent call last)",
      "Cell \u001b[1;32mIn[33], line 5\u001b[0m\n\u001b[0;32m      1\u001b[0m \u001b[38;5;28;01mdef\u001b[39;00m\u001b[38;5;250m \u001b[39m\u001b[38;5;21mmaximum\u001b[39m(\u001b[38;5;241m*\u001b[39margs):\n\u001b[0;32m      2\u001b[0m     \u001b[38;5;28mprint\u001b[39m (\u001b[38;5;28mmax\u001b[39m(args))\n\u001b[1;32m----> 5\u001b[0m \u001b[43mmaximum\u001b[49m\u001b[43m(\u001b[49m\u001b[38;5;241;43m1\u001b[39;49m\u001b[43m,\u001b[49m\u001b[38;5;241;43m2\u001b[39;49m\u001b[43m,\u001b[49m\u001b[38;5;241;43m3\u001b[39;49m\u001b[43m,\u001b[49m\u001b[38;5;241;43m55\u001b[39;49m\u001b[43m)\u001b[49m\n",
      "Cell \u001b[1;32mIn[33], line 2\u001b[0m, in \u001b[0;36mmaximum\u001b[1;34m(*args)\u001b[0m\n\u001b[0;32m      1\u001b[0m \u001b[38;5;28;01mdef\u001b[39;00m\u001b[38;5;250m \u001b[39m\u001b[38;5;21mmaximum\u001b[39m(\u001b[38;5;241m*\u001b[39margs):\n\u001b[1;32m----> 2\u001b[0m     \u001b[38;5;28mprint\u001b[39m (\u001b[38;5;28;43mmax\u001b[39;49m\u001b[43m(\u001b[49m\u001b[43margs\u001b[49m\u001b[43m)\u001b[49m)\n",
      "Cell \u001b[1;32mIn[21], line 5\u001b[0m, in \u001b[0;36mmax\u001b[1;34m(*args)\u001b[0m\n\u001b[0;32m      3\u001b[0m \u001b[38;5;28;01mif\u001b[39;00m \u001b[38;5;129;01mnot\u001b[39;00m args:  \n\u001b[0;32m      4\u001b[0m     \u001b[38;5;28;01mreturn\u001b[39;00m \u001b[38;5;124m\"\u001b[39m\u001b[38;5;124mNo numbers provided\u001b[39m\u001b[38;5;124m\"\u001b[39m\n\u001b[1;32m----> 5\u001b[0m \u001b[38;5;28;01mreturn\u001b[39;00m \u001b[38;5;28;43mmax\u001b[39;49m\u001b[43m(\u001b[49m\u001b[43margs\u001b[49m\u001b[43m)\u001b[49m\n",
      "Cell \u001b[1;32mIn[21], line 5\u001b[0m, in \u001b[0;36mmax\u001b[1;34m(*args)\u001b[0m\n\u001b[0;32m      3\u001b[0m \u001b[38;5;28;01mif\u001b[39;00m \u001b[38;5;129;01mnot\u001b[39;00m args:  \n\u001b[0;32m      4\u001b[0m     \u001b[38;5;28;01mreturn\u001b[39;00m \u001b[38;5;124m\"\u001b[39m\u001b[38;5;124mNo numbers provided\u001b[39m\u001b[38;5;124m\"\u001b[39m\n\u001b[1;32m----> 5\u001b[0m \u001b[38;5;28;01mreturn\u001b[39;00m \u001b[38;5;28;43mmax\u001b[39;49m\u001b[43m(\u001b[49m\u001b[43margs\u001b[49m\u001b[43m)\u001b[49m\n",
      "    \u001b[1;31m[... skipping similar frames: max at line 5 (2969 times)]\u001b[0m\n",
      "Cell \u001b[1;32mIn[21], line 5\u001b[0m, in \u001b[0;36mmax\u001b[1;34m(*args)\u001b[0m\n\u001b[0;32m      3\u001b[0m \u001b[38;5;28;01mif\u001b[39;00m \u001b[38;5;129;01mnot\u001b[39;00m args:  \n\u001b[0;32m      4\u001b[0m     \u001b[38;5;28;01mreturn\u001b[39;00m \u001b[38;5;124m\"\u001b[39m\u001b[38;5;124mNo numbers provided\u001b[39m\u001b[38;5;124m\"\u001b[39m\n\u001b[1;32m----> 5\u001b[0m \u001b[38;5;28;01mreturn\u001b[39;00m \u001b[38;5;28;43mmax\u001b[39;49m\u001b[43m(\u001b[49m\u001b[43margs\u001b[49m\u001b[43m)\u001b[49m\n",
      "\u001b[1;31mRecursionError\u001b[0m: maximum recursion depth exceeded"
     ]
    }
   ],
   "source": [
    "def maximum(*args):\n",
    "    print (max(args))\n",
    "    \n",
    "  \n",
    "maximum(1,2,3,55)"
   ]
  },
  {
   "cell_type": "markdown",
   "metadata": {},
   "source": [
    "### Write a function that generates the multiplication table of a number up to 12"
   ]
  },
  {
   "cell_type": "code",
   "execution_count": 13,
   "metadata": {},
   "outputs": [
    {
     "name": "stdout",
     "output_type": "stream",
     "text": [
      "multiplication table of number 5 is:\n",
      "5 * 0 = 0\n",
      "5 * 1 = 5\n",
      "5 * 2 = 10\n",
      "5 * 3 = 15\n",
      "5 * 4 = 20\n",
      "5 * 5 = 25\n",
      "5 * 6 = 30\n",
      "5 * 7 = 35\n",
      "5 * 8 = 40\n",
      "5 * 9 = 45\n",
      "5 * 10 = 50\n",
      "5 * 11 = 55\n",
      "5 * 12 = 60\n"
     ]
    }
   ],
   "source": [
    "def multiplication_table(n):\n",
    "    print(f\"multiplication table of number {n} is:\")\n",
    "    for i in range(13):\n",
    "        print(f\"{n} * {i} = {(n*i)}\")\n",
    "    \n",
    "    \n",
    "    \n",
    "num=int(input(\"enter a number\"))  \n",
    "multiplication_table(num)  "
   ]
  },
  {
   "cell_type": "markdown",
   "metadata": {},
   "source": [
    "### Write a function that count vowels in string"
   ]
  },
  {
   "cell_type": "code",
   "execution_count": 46,
   "metadata": {},
   "outputs": [
    {
     "name": "stdout",
     "output_type": "stream",
     "text": [
      "no of vowels is 2\n"
     ]
    },
    {
     "data": {
      "text/plain": [
       "'\\n\\ndef count_vowels(string):\\n    counter = 0\\n    vowels = \"AEIOUaeiou\"  \\n    for char in string:  \\n        if char in vowels:  \\n            counter += 1\\n    return counter\\n\\n\\nuser_input = input(\"Enter a word: \")  \\nprint(f\"The number of vowels in the word is: {count_vowels(user_input)}\")\\n\\n'"
      ]
     },
     "execution_count": 46,
     "metadata": {},
     "output_type": "execute_result"
    }
   ],
   "source": [
    "def count_vowels(string):\n",
    "    counter=0\n",
    "    vowels=\"AEOUIaeoui\"\n",
    "    for char in string:\n",
    "       if char in vowels:\n",
    "        \n",
    "        counter+=1\n",
    "    return counter \n",
    "user_input=input(\"enter a word\")\n",
    "\n",
    "print(f\"no of vowels is {count_vowels(user_input)}\")     \n"
   ]
  },
  {
   "cell_type": "markdown",
   "metadata": {},
   "source": [
    "### Write a function that revesres a sequence"
   ]
  },
  {
   "cell_type": "code",
   "execution_count": 55,
   "metadata": {},
   "outputs": [
    {
     "name": "stdout",
     "output_type": "stream",
     "text": [
      "Reversed: 654321\n"
     ]
    }
   ],
   "source": [
    "def reverse(sequence):\n",
    "    lst = list(sequence)  \n",
    "    lst.reverse() \n",
    "    return ''.join(lst) if isinstance(sequence, str) else lst  \n",
    "\n",
    "inp = input(\"Enter something: \")\n",
    "print(f\"Reversed: {reverse(inp)}\")\n"
   ]
  },
  {
   "cell_type": "markdown",
   "metadata": {},
   "source": [
    "### Write a function to check if sting can be written forward or backward"
   ]
  },
  {
   "cell_type": "code",
   "execution_count": 64,
   "metadata": {},
   "outputs": [
    {
     "name": "stdout",
     "output_type": "stream",
     "text": [
      "it can be palindrome\n"
     ]
    }
   ],
   "source": [
    "def is_palindrome(string):\n",
    "    lst = list(string)\n",
    "    lst.reverse()\n",
    "    reversed_list= \"\".join(lst)\n",
    "    return reversed_list == string\n",
    "        \n",
    "user_input=input(\"enter a word\")  \n",
    "if is_palindrome(user_input) ==True:\n",
    "    print(\"it can be palindrome\")  \n",
    "else:\n",
    "     print(\"it cant be palindrome\")       "
   ]
  },
  {
   "cell_type": "markdown",
   "metadata": {},
   "source": [
    "### Write a function that generates the fibonacci's sequencer"
   ]
  },
  {
   "cell_type": "code",
   "execution_count": 68,
   "metadata": {},
   "outputs": [
    {
     "name": "stdout",
     "output_type": "stream",
     "text": [
      "fibonacci sequence is: [0, 1, 1, 2, 3]\n"
     ]
    }
   ],
   "source": [
    "def fibonacci(n):\n",
    "    if(n<=0):\n",
    "        return \"enter positive number\"\n",
    "    elif(n==1):\n",
    "        return [0]\n",
    "    elif(n==2):\n",
    "        return [0,1]\n",
    "    else:\n",
    "        sequence=[0,1]\n",
    "        for i in range (2,n):\n",
    "            next_number=sequence[i-1]+sequence[i-2]\n",
    "            sequence.append(next_number)\n",
    "    return sequence \n",
    "user_input=int(input(\"enter the number of terms\"))\n",
    "print(f\"fibonacci sequence is: {fibonacci(user_input)}\")    "
   ]
  },
  {
   "cell_type": "markdown",
   "metadata": {},
   "source": [
    "### Write a calcuator function"
   ]
  },
  {
   "cell_type": "code",
   "execution_count": 70,
   "metadata": {},
   "outputs": [
    {
     "name": "stdout",
     "output_type": "stream",
     "text": [
      "operation selected is: *. result is: 4.0\n"
     ]
    }
   ],
   "source": [
    "def calcuator(a, b, operation):\n",
    "    if operation == '+':\n",
    "        return a+b\n",
    "    elif operation == '-':\n",
    "        return a-b\n",
    "    elif operation == '/':\n",
    "        return a/b\n",
    "    elif operation == '*':\n",
    "        return a*b\n",
    "    \n",
    "    \n",
    "    \n",
    "n1=float(input(\"enter the first number\"))\n",
    "n2=float(input(\"enter the second number\")) \n",
    "op=input(\"enter operation: (+ or - or / or *)\")\n",
    "print(f\"operation selected is: {op}. result is: {calcuator(n1,n2,op)}\")"
   ]
  }
 ],
 "metadata": {
  "kernelspec": {
   "display_name": "Python 3",
   "language": "python",
   "name": "python3"
  },
  "language_info": {
   "codemirror_mode": {
    "name": "ipython",
    "version": 3
   },
   "file_extension": ".py",
   "mimetype": "text/x-python",
   "name": "python",
   "nbconvert_exporter": "python",
   "pygments_lexer": "ipython3",
   "version": "3.11.4"
  }
 },
 "nbformat": 4,
 "nbformat_minor": 2
}
