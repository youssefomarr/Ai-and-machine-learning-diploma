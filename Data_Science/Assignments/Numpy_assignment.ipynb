{
  "nbformat": 4,
  "nbformat_minor": 0,
  "metadata": {
    "colab": {
      "provenance": []
    },
    "kernelspec": {
      "name": "python3",
      "display_name": "Python 3"
    },
    "language_info": {
      "name": "python"
    }
  },
  "cells": [
    {
      "cell_type": "markdown",
      "source": [
        "# Numpy Assignment"
      ],
      "metadata": {
        "id": "J0-k-S5F9EZh"
      }
    },
    {
      "cell_type": "markdown",
      "source": [
        "## Question 1:"
      ],
      "metadata": {
        "id": "EaoxEBS89SBO"
      }
    },
    {
      "cell_type": "code",
      "source": [
        "# Write a NumPy program to test whether none of the elements of a given array is zero.\n",
        "\n",
        "\n",
        "import numpy as np\n",
        "x=np.array([1,2,3,4,5,6])\n",
        "result=np.all(x!=0)\n",
        "print(f\"the array: {x}\")\n",
        "print(f\"Is this array is a non zero array? {result}\")"
      ],
      "metadata": {
        "colab": {
          "base_uri": "https://localhost:8080/"
        },
        "id": "mh3askuk9UHM",
        "outputId": "2e454183-6654-48cc-8e4e-ced7f44c21a8"
      },
      "execution_count": 20,
      "outputs": [
        {
          "output_type": "stream",
          "name": "stdout",
          "text": [
            "the array: [1 2 3 4 5 6]\n",
            "Is this array is a non zero array? True\n"
          ]
        }
      ]
    },
    {
      "cell_type": "markdown",
      "source": [
        "## Question 2:"
      ],
      "metadata": {
        "id": "qsufIVq79ZdT"
      }
    },
    {
      "cell_type": "code",
      "source": [
        "# Write a NumPy program to test whether any of the elements of a given array is non-zero\n",
        "import numpy as np\n",
        "x=np.array([1,2,3,4,5,6,0])\n",
        "result=np.any(x!=0)\n",
        "print(f\"the array: {x}\")\n",
        "print(f\"Is this array elements contain a non zero element ? {result}\")"
      ],
      "metadata": {
        "colab": {
          "base_uri": "https://localhost:8080/"
        },
        "id": "ehvISKzk9cVX",
        "outputId": "b3565ace-f484-4a1e-c23c-b3d02b39257f"
      },
      "execution_count": 7,
      "outputs": [
        {
          "output_type": "stream",
          "name": "stdout",
          "text": [
            "the array: [1 2 3 4 5 6 0]\n",
            "Is this array elements contain a non zero element ? True\n"
          ]
        }
      ]
    },
    {
      "cell_type": "markdown",
      "source": [
        "## Question 3:"
      ],
      "metadata": {
        "id": "iK8vE-8e9fjr"
      }
    },
    {
      "cell_type": "code",
      "source": [
        "# Write a NumPy program to create an element-wise comparison (equal, equal within a tolerance) of two given\n",
        "import numpy as np\n",
        "arr1=np.array([1,2,314.2,31,5])\n",
        "arr2=np.array([11,2,314.7,0,5])\n",
        "print(f\"array 1 is: {arr1}\")\n",
        "print(f\"array 2 is: {arr2}\")\n",
        "print(\"Element wise comparison (equal):\")\n",
        "equal_mask=(arr1==arr2)\n",
        "if np.any(equal_mask):\n",
        "  for (val1,val2) in zip(arr1[equal_mask],arr2[equal_mask]):\n",
        "    print(f\"array1: {val1}, array2: {val2}\")\n",
        "else:\n",
        "  print(\"No equal elements\")\n",
        "print(\"Element wise comparison (with tolerance):\")\n",
        "close_mask=np.isclose(arr1,arr2,atol=0.5)\n",
        "if np.any(close_mask):\n",
        "  for (val1,val2) in zip(arr1[close_mask],arr2[close_mask]):\n",
        "    print(f\"array1: {val1}, array2: {val2}\")\n",
        "else:\n",
        "  print(\"No equal elements with tolerance\")\n",
        "\n",
        "\n",
        "\n",
        "\n",
        "\n"
      ],
      "metadata": {
        "colab": {
          "base_uri": "https://localhost:8080/"
        },
        "id": "lpuIG4Yo9iIo",
        "outputId": "1635bb93-9951-46eb-d093-552e9a312277"
      },
      "execution_count": 22,
      "outputs": [
        {
          "output_type": "stream",
          "name": "stdout",
          "text": [
            "array 1 is: [  1.    2.  314.2  31.    5. ]\n",
            "array 2 is: [ 11.    2.  314.7   0.    5. ]\n",
            "Element wise comparison (equal):\n",
            "array1: 2.0, array2: 2.0\n",
            "array1: 5.0, array2: 5.0\n",
            "Element wise comparison (with tolerance):\n",
            "array1: 2.0, array2: 2.0\n",
            "array1: 314.2, array2: 314.7\n",
            "array1: 5.0, array2: 5.0\n"
          ]
        }
      ]
    },
    {
      "cell_type": "markdown",
      "source": [
        "## Question 4"
      ],
      "metadata": {
        "id": "zNP9fpAPDL6E"
      }
    },
    {
      "cell_type": "code",
      "source": [
        "# Write a NumPy program to create an array of 10 zeros,10 ones, 10 fives.\n",
        "import numpy as np\n",
        "zeros=np.zeros(10,dtype=int)\n",
        "ones=np.ones(10,dtype=int)\n",
        "fives=np.ones(10,dtype=int)*5\n",
        "result =np.concatenate([zeros,ones,fives])\n",
        "print(\"Array of 10 zeros, 10 ones and 10 fives\")\n",
        "print(result)"
      ],
      "metadata": {
        "colab": {
          "base_uri": "https://localhost:8080/"
        },
        "id": "C2kKREWmDOwp",
        "outputId": "7095b6a9-c01e-471e-d2aa-65dc5bd0964c"
      },
      "execution_count": 9,
      "outputs": [
        {
          "output_type": "stream",
          "name": "stdout",
          "text": [
            "Array of 10 zeros, 10 ones and 10 fives\n",
            "[0 0 0 0 0 0 0 0 0 0 1 1 1 1 1 1 1 1 1 1 5 5 5 5 5 5 5 5 5 5]\n"
          ]
        }
      ]
    },
    {
      "cell_type": "markdown",
      "source": [
        "## Question 5"
      ],
      "metadata": {
        "id": "NLJIo2HQYohC"
      }
    },
    {
      "cell_type": "code",
      "source": [
        "# Write a NumPy program to create an array of the integers from 30 to70.\n",
        "import numpy as np\n",
        "array=np.arange(30,71,dtype=int)\n",
        "print('create an array of the integers from 30 to 70')\n",
        "print(array)"
      ],
      "metadata": {
        "colab": {
          "base_uri": "https://localhost:8080/"
        },
        "id": "6-Q2eRQUYq43",
        "outputId": "2e4e236f-7dcb-4b29-f21d-be829cd1b5e1"
      },
      "execution_count": 17,
      "outputs": [
        {
          "output_type": "stream",
          "name": "stdout",
          "text": [
            "create an array of the integers from 30 to 70\n",
            "[30 31 32 33 34 35 36 37 38 39 40 41 42 43 44 45 46 47 48 49 50 51 52 53\n",
            " 54 55 56 57 58 59 60 61 62 63 64 65 66 67 68 69 70]\n"
          ]
        }
      ]
    },
    {
      "cell_type": "markdown",
      "source": [
        "## Question 6"
      ],
      "metadata": {
        "id": "C82-WDDkZtSe"
      }
    },
    {
      "cell_type": "code",
      "source": [
        "#  Write a NumPy program to create a 3x3 identity matrix\n",
        "import numpy as np\n",
        "array=np.identity(3,dtype=int)\n",
        "print(\"create a 3x3 identity matrix \")\n",
        "print(array)"
      ],
      "metadata": {
        "colab": {
          "base_uri": "https://localhost:8080/"
        },
        "id": "egltmQvuZwc9",
        "outputId": "71fc9605-8e34-4a9e-e2f4-856ae832e713"
      },
      "execution_count": 19,
      "outputs": [
        {
          "output_type": "stream",
          "name": "stdout",
          "text": [
            "create a 3x3 identity matrix \n",
            "[[1 0 0]\n",
            " [0 1 0]\n",
            " [0 0 1]]\n"
          ]
        }
      ]
    },
    {
      "cell_type": "markdown",
      "source": [
        "## Question 7"
      ],
      "metadata": {
        "id": "lr_7dWAvZxK-"
      }
    },
    {
      "cell_type": "code",
      "source": [
        "# Write a NumPy program to generate a random number between 0 and 1\n",
        "import numpy as np\n",
        "num=np.random.random()\n",
        "print('generate a random number between 0 and 1 ')\n",
        "print(num)"
      ],
      "metadata": {
        "colab": {
          "base_uri": "https://localhost:8080/"
        },
        "id": "KT4EQmPJZx7k",
        "outputId": "6c97c2c2-4ecf-4d82-8c71-452cf2d491be"
      },
      "execution_count": 25,
      "outputs": [
        {
          "output_type": "stream",
          "name": "stdout",
          "text": [
            "generate a random number between 0 and 1 \n",
            "0.5353301325049081\n"
          ]
        }
      ]
    },
    {
      "cell_type": "markdown",
      "source": [
        "## Question 8"
      ],
      "metadata": {
        "id": "ikhzL_S9ZyxJ"
      }
    },
    {
      "cell_type": "code",
      "source": [
        "# Write a NumPy program to generate an array of 15 random numbers from a standard normal distribution\n",
        "import numpy as np\n",
        "num=np.random.randn(15)\n",
        "print(\"generate an array of 15 random numbers\")\n",
        "print(num)\n"
      ],
      "metadata": {
        "colab": {
          "base_uri": "https://localhost:8080/"
        },
        "id": "oXctO8KfZzLQ",
        "outputId": "7f127259-ea97-4435-8ebd-cba6b11f8372"
      },
      "execution_count": 47,
      "outputs": [
        {
          "output_type": "stream",
          "name": "stdout",
          "text": [
            "generate an array of 15 random numbers\n",
            "[-0.73141268  0.36579997  2.14252894 -0.38800377  0.32724481 -1.84591809\n",
            "  0.84829228 -0.02565057  0.08657861 -0.20230597  0.5917473  -0.14295066\n",
            "  0.00505732  0.47627476 -0.20864692]\n"
          ]
        }
      ]
    },
    {
      "cell_type": "markdown",
      "source": [
        "## Question 9"
      ],
      "metadata": {
        "id": "ntnkeYyNa_Vr"
      }
    },
    {
      "cell_type": "code",
      "source": [
        "# Write a NumPy program to create a vector with values ranging from 15 to 55 and print all values except the first and last.\n",
        "import numpy as np\n",
        "v=np.arange(15,56)\n",
        "print(\"create a vector with values ranging from 15 to 55 and print all values except the first and last\")\n",
        "print(v[1:-1])"
      ],
      "metadata": {
        "colab": {
          "base_uri": "https://localhost:8080/"
        },
        "id": "NzTL_tfSbAk9",
        "outputId": "d0248923-c03a-4769-9d35-69b45eced2db"
      },
      "execution_count": 57,
      "outputs": [
        {
          "output_type": "stream",
          "name": "stdout",
          "text": [
            "create a vector with values ranging from 15 to 55 and print all values except the first and last\n",
            "[16 17 18 19 20 21 22 23 24 25 26 27 28 29 30 31 32 33 34 35 36 37 38 39\n",
            " 40 41 42 43 44 45 46 47 48 49 50 51 52 53 54]\n"
          ]
        }
      ]
    },
    {
      "cell_type": "markdown",
      "source": [
        "## Question  10"
      ],
      "metadata": {
        "id": "kQ7fpA1FbAy2"
      }
    },
    {
      "cell_type": "code",
      "source": [
        "#  Write a NumPy program to create a vector of length 5 filled with arbitrary integers from 0 to 10\n",
        "import numpy as np\n",
        "v=np.random.randint(0,10,5)\n",
        "print(\"create a vector of length 5 filled with arbitrary integers from 0 to 10\")\n",
        "print(v)\n"
      ],
      "metadata": {
        "colab": {
          "base_uri": "https://localhost:8080/"
        },
        "id": "XJFFXMWubCCp",
        "outputId": "019809cf-d805-4faf-ff03-0bd0a825b2b1"
      },
      "execution_count": 59,
      "outputs": [
        {
          "output_type": "stream",
          "name": "stdout",
          "text": [
            "create a vector of length 5 filled with arbitrary integers from 0 to 10\n",
            "[5 4 9 1 1]\n"
          ]
        }
      ]
    },
    {
      "cell_type": "markdown",
      "source": [
        "## Question 11"
      ],
      "metadata": {
        "id": "qsAf5xoobCqv"
      }
    },
    {
      "cell_type": "code",
      "source": [
        "#  Write a NumPy program to create a 10x10 matrix, in which the elements on the borders will be equal to 1, and inside 0.\n",
        "import numpy as np\n",
        "m=np.ones((10,10))\n",
        "m[1:-1,1:-1]=0\n",
        "\n",
        "print(\"create a 10x10 matrix, in which the elements on the borders will be equal to 1, and inside 0.\")\n",
        "print(m)\n"
      ],
      "metadata": {
        "colab": {
          "base_uri": "https://localhost:8080/"
        },
        "id": "NhP098NdbEE5",
        "outputId": "9d155290-83a5-41d9-abf7-a3d736f09a29"
      },
      "execution_count": 81,
      "outputs": [
        {
          "output_type": "stream",
          "name": "stdout",
          "text": [
            "create a 10x10 matrix, in which the elements on the borders will be equal to 1, and inside 0.\n",
            "[[1. 1. 1. 1. 1. 1. 1. 1. 1. 1.]\n",
            " [1. 0. 0. 0. 0. 0. 0. 0. 0. 1.]\n",
            " [1. 0. 0. 0. 0. 0. 0. 0. 0. 1.]\n",
            " [1. 0. 0. 0. 0. 0. 0. 0. 0. 1.]\n",
            " [1. 0. 0. 0. 0. 0. 0. 0. 0. 1.]\n",
            " [1. 0. 0. 0. 0. 0. 0. 0. 0. 1.]\n",
            " [1. 0. 0. 0. 0. 0. 0. 0. 0. 1.]\n",
            " [1. 0. 0. 0. 0. 0. 0. 0. 0. 1.]\n",
            " [1. 0. 0. 0. 0. 0. 0. 0. 0. 1.]\n",
            " [1. 1. 1. 1. 1. 1. 1. 1. 1. 1.]]\n"
          ]
        }
      ]
    },
    {
      "cell_type": "markdown",
      "source": [
        "## Question 12"
      ],
      "metadata": {
        "id": "ep7B3SHWbEv1"
      }
    },
    {
      "cell_type": "code",
      "source": [
        "# Write a NumPy program to create a 5x5 zero matrix with elements on the main diagonal equal to 1, 2, 3, 4, 5.\n",
        "import numpy as np\n",
        "m=np.zeros((5,5),dtype=int)\n",
        "np.fill_diagonal(m,np.arange(1,6))\n",
        "print(\"create a 5x5 zero matrix with elements on the main diagonal equal to 1, 2, 3, 4, 5.\")\n",
        "print(m)\n",
        ""
      ],
      "metadata": {
        "colab": {
          "base_uri": "https://localhost:8080/"
        },
        "id": "3oXCxwjBbHMS",
        "outputId": "68795ee5-1368-475d-e114-5608f5f9c3b2"
      },
      "execution_count": 83,
      "outputs": [
        {
          "output_type": "stream",
          "name": "stdout",
          "text": [
            "create a 5x5 zero matrix with elements on the main diagonal equal to 1, 2, 3, 4, 5. \n",
            "[[1 0 0 0 0]\n",
            " [0 2 0 0 0]\n",
            " [0 0 3 0 0]\n",
            " [0 0 0 4 0]\n",
            " [0 0 0 0 5]]\n"
          ]
        }
      ]
    },
    {
      "cell_type": "markdown",
      "source": [
        "## Question 13"
      ],
      "metadata": {
        "id": "U9NPyA0gbH4l"
      }
    },
    {
      "cell_type": "code",
      "source": [
        "#  Write a NumPy program to create a 4x4 matrix in which 0 and 1 are staggered, with zeros on the main diagonal.\n",
        "import numpy as np\n",
        "m=np.zeros((4,4),dtype=int)\n",
        "m[1::2,::2]=1\n",
        "m[::2,1::2]=1\n",
        "print(\"create a 4x4 matrix in which 0 and 1 are staggered, with zeros on the main diagonal.\")\n",
        "print(m)"
      ],
      "metadata": {
        "colab": {
          "base_uri": "https://localhost:8080/"
        },
        "id": "34PS5zPFbJ-L",
        "outputId": "8da0beea-a393-4b1e-b551-2aca5835ccf9"
      },
      "execution_count": 1,
      "outputs": [
        {
          "output_type": "stream",
          "name": "stdout",
          "text": [
            "create a 4x4 matrix in which 0 and 1 are staggered, with zeros on the main diagonal.\n",
            "[[0 1 0 1]\n",
            " [1 0 1 0]\n",
            " [0 1 0 1]\n",
            " [1 0 1 0]]\n"
          ]
        }
      ]
    },
    {
      "cell_type": "markdown",
      "source": [
        "## Question 14"
      ],
      "metadata": {
        "id": "TtcvQApsbKhL"
      }
    },
    {
      "cell_type": "code",
      "source": [
        "# Write a NumPy program to save two given arrays into a single file in compressed format (.npz format) and load it.\n",
        "import numpy as np\n",
        "arr1=np.array((1,2,3,4,5))\n",
        "arr2=np.array((11,22,33,44,55))\n",
        "np.savez(\"two_arrays.npz\",f=arr1,t=arr2)\n",
        "data = np.load('two_arrays.npz')\n",
        "loaded_data1=data['f']\n",
        "loaded_data2=data['t']\n",
        "print(f\"loaded array 1: {loaded_data1}\")\n",
        "print(f\"loaded array 2: {loaded_data2}\")"
      ],
      "metadata": {
        "colab": {
          "base_uri": "https://localhost:8080/"
        },
        "id": "KPbCKRJ1bLh0",
        "outputId": "020ae226-e76a-4c26-93dc-0b51cd27784e"
      },
      "execution_count": 2,
      "outputs": [
        {
          "output_type": "stream",
          "name": "stdout",
          "text": [
            "loaded array 1: [1 2 3 4 5]\n",
            "loaded array 2: [11 22 33 44 55]\n"
          ]
        }
      ]
    },
    {
      "cell_type": "markdown",
      "source": [
        "## Question 15"
      ],
      "metadata": {
        "id": "Is4c8Bp9bNXE"
      }
    },
    {
      "cell_type": "code",
      "source": [
        "#  Write a NumPy program to create a one-dimensional array of forty pseudo-randomly generated values.\n",
        "import numpy as np\n",
        "arr=np.random.randint(0,40,40)\n",
        "print(\"create a one-dimensional array of forty pseudo-randomly generated values.\")\n",
        "print (arr)\n"
      ],
      "metadata": {
        "colab": {
          "base_uri": "https://localhost:8080/"
        },
        "id": "Xx6LMZ86bOgF",
        "outputId": "ded76d3b-0da7-4f98-9e62-35c9b913e08a"
      },
      "execution_count": 18,
      "outputs": [
        {
          "output_type": "stream",
          "name": "stdout",
          "text": [
            "create a one-dimensional array of forty pseudo-randomly generated values.\n",
            "[23 15  1 18  6 22  7  0 13 11 35 22  3 28 14 20 11 10  0 20 32  2  4 27\n",
            "  3 33 15 25 22 18 22 21 28  9 32 26  2 27 32 26]\n"
          ]
        }
      ]
    },
    {
      "cell_type": "markdown",
      "source": [
        "## Question 16"
      ],
      "metadata": {
        "id": "uBo75H_LbOu6"
      }
    },
    {
      "cell_type": "code",
      "source": [
        "#  Write a NumPy program to extract all numbers from a given array which are less and greater than a specified number.\n",
        "import numpy as np\n",
        "arr=np.array((1,2,3,4,5))\n",
        "print(\"a NumPy program to extract all numbers from a given array which are less and greater than a specified number.\")\n",
        "print(f\"original array: {arr}\")\n",
        "threshold=3\n",
        "less_than_threshold=arr[arr<threshold]\n",
        "greater_than_threshold=arr[arr>threshold]\n",
        "print(f\"Elements less than threshold: {less_than_threshold}\")\n",
        "print(f\"Elements greater than threshold: {greater_than_threshold}\")\n",
        "\n"
      ],
      "metadata": {
        "colab": {
          "base_uri": "https://localhost:8080/"
        },
        "id": "xlLvLJN5bQck",
        "outputId": "15bc404a-0f55-49fd-a0ab-f3fa24917d4b"
      },
      "execution_count": 19,
      "outputs": [
        {
          "output_type": "stream",
          "name": "stdout",
          "text": [
            "a NumPy program to extract all numbers from a given array which are less and greater than a specified number.\n",
            "original array: [1 2 3 4 5]\n",
            "Elements less than threshold: [1 2]\n",
            "Elements greater than threshold: [4 5]\n"
          ]
        }
      ]
    }
  ]
}